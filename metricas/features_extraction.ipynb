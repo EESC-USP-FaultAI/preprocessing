{
 "cells": [
  {
   "cell_type": "code",
   "execution_count": 1,
   "metadata": {},
   "outputs": [],
   "source": [
    "import os, sys\n",
    "import pandas as pd\n",
    "import numpy as np\n",
    "from tqdm.notebook import tqdm\n",
    "import matplotlib.pyplot as plt"
   ]
  },
  {
   "cell_type": "markdown",
   "metadata": {},
   "source": [
    "### Loading Data"
   ]
  },
  {
   "cell_type": "code",
   "execution_count": 2,
   "metadata": {},
   "outputs": [],
   "source": [
    "# Load data configuration\n",
    "# data_dir = r'C:\\Users\\alail\\OneDrive\\Documentos\\dado_iniciais'\n",
    "data_dir = r'D:\\Pre-Processing Data'\n",
    "pen = [10, 50, 75]\n",
    "\n",
    "df_cases = pd.read_csv(\n",
    "    os.path.join(data_dir, 'cenarios_falta_preprocessamento.csv'),\n",
    "    header=None,\n",
    "    index_col=False\n",
    ")"
   ]
  },
  {
   "cell_type": "code",
   "execution_count": 3,
   "metadata": {},
   "outputs": [],
   "source": [
    "# Load data\n",
    "if os.path.exists(os.path.join(data_dir, 'data.npy')):\n",
    "    data = np.load(os.path.join(data_dir, 'data.npy'))\n",
    "else:\n",
    "    one_data_size = (6, 3072)\n",
    "    data = np.zeros((len(pen) * len(df_cases), *one_data_size))\n",
    "    for i, p in enumerate(pen):\n",
    "        for j, case in df_cases.iterrows():\n",
    "            data[i * len(df_cases) + j] = np.loadtxt(\n",
    "                os.path.join(data_dir, f'pen{p}', f'sinal_{j+1}_.csv'),\n",
    "                delimiter=','\n",
    "            ).T\n",
    "    np.save(os.path.join(data_dir, 'data.npy'), data) # save in numpy for faster loading"
   ]
  },
  {
   "cell_type": "code",
   "execution_count": 4,
   "metadata": {},
   "outputs": [],
   "source": [
    "# Create a Dataframe to store the features\n",
    "columns_name = [\n",
    "    'File ID',\n",
    "    'Fault type',\n",
    "    'Fault resistance', \n",
    "    'Incidence angle',\n",
    "    'Fault location',\n",
    "    'Fault distance',\n",
    "    'Pen',\n",
    "]\n",
    "columns_type = {\n",
    "    'File ID': int,\n",
    "    'Fault type': int,\n",
    "    'Fault resistance': float,\n",
    "    'Incidence angle': float,\n",
    "    'Fault location': int,\n",
    "    'Fault distance': float,\n",
    "    'Pen': int\n",
    "}\n",
    "df_features = pd.DataFrame(\n",
    "    columns= columns_name,\n",
    "    index=range(len(pen) * len(df_cases))\n",
    ")\n",
    "for i, p in enumerate(pen):\n",
    "    for j, case in df_cases.iterrows():\n",
    "        df_features.loc[i * len(df_cases) + j] = case.tolist() + [p]\n",
    "df_features = df_features.astype(columns_type)\n",
    "del df_cases"
   ]
  },
  {
   "cell_type": "code",
   "execution_count": 5,
   "metadata": {},
   "outputs": [],
   "source": [
    "def save_dataframe_image(df, filename, n = 8):\n",
    "    import dataframe_image as dfi\n",
    "    first = df.head(n)\n",
    "    last = df.tail(n)\n",
    "    placeholder = pd.DataFrame({col: ['...'] for col in df.columns})\n",
    "    placeholder = placeholder.rename(index={0: '...'})\n",
    "    combined_df = pd.concat([first, placeholder, last], ignore_index=False)\n",
    "    combined_df.columns.rename('Index', inplace=True)\n",
    "    dfi.export(combined_df, filename, dpi=300, max_cols=10)\n",
    "save_dataframe_image(df_features, r'features_df.png', n=4)"
   ]
  },
  {
   "cell_type": "markdown",
   "metadata": {},
   "source": [
    "### Fourier Features"
   ]
  },
  {
   "cell_type": "code",
   "execution_count": 6,
   "metadata": {},
   "outputs": [
    {
     "data": {
      "application/vnd.jupyter.widget-view+json": {
       "model_id": "461daacce42f431fb97eb9888cdb7aa3",
       "version_major": 2,
       "version_minor": 0
      },
      "text/plain": [
       "  0%|          | 0/4050 [00:00<?, ?it/s]"
      ]
     },
     "metadata": {},
     "output_type": "display_data"
    },
    {
     "ename": "KeyboardInterrupt",
     "evalue": "",
     "output_type": "error",
     "traceback": [
      "\u001b[1;31m---------------------------------------------------------------------------\u001b[0m",
      "\u001b[1;31mKeyboardInterrupt\u001b[0m                         Traceback (most recent call last)",
      "Cell \u001b[1;32mIn[6], line 7\u001b[0m\n\u001b[0;32m      5\u001b[0m fs \u001b[38;5;241m=\u001b[39m \u001b[38;5;241m512\u001b[39m\u001b[38;5;241m*\u001b[39m\u001b[38;5;241m60\u001b[39m\n\u001b[0;32m      6\u001b[0m \u001b[38;5;28;01mfor\u001b[39;00m i \u001b[38;5;129;01min\u001b[39;00m tqdm(\u001b[38;5;28mrange\u001b[39m(data\u001b[38;5;241m.\u001b[39mshape[\u001b[38;5;241m0\u001b[39m])):\n\u001b[1;32m----> 7\u001b[0m     feat \u001b[38;5;241m=\u001b[39m \u001b[43mdft_features\u001b[49m\u001b[43m(\u001b[49m\n\u001b[0;32m      8\u001b[0m \u001b[43m        \u001b[49m\u001b[43mdata\u001b[49m\u001b[43m[\u001b[49m\u001b[43mi\u001b[49m\u001b[43m,\u001b[49m\u001b[43m:\u001b[49m\u001b[43m:\u001b[49m\u001b[38;5;241;43m-\u001b[39;49m\u001b[38;5;241;43m1\u001b[39;49m\u001b[43m,\u001b[49m\u001b[43midx_left\u001b[49m\u001b[43m:\u001b[49m\u001b[43midx_right\u001b[49m\u001b[43m]\u001b[49m\u001b[43m,\u001b[49m\u001b[43m \u001b[49m\n\u001b[0;32m      9\u001b[0m \u001b[43m        \u001b[49m\u001b[43mfs\u001b[49m\u001b[43m)\u001b[49m\n\u001b[0;32m     10\u001b[0m     \u001b[38;5;28;01mfor\u001b[39;00m j, f \u001b[38;5;129;01min\u001b[39;00m \u001b[38;5;28menumerate\u001b[39m(feat):\n\u001b[0;32m     11\u001b[0m         df_fourier\u001b[38;5;241m.\u001b[39mloc[i, \u001b[38;5;124mf\u001b[39m\u001b[38;5;124m'\u001b[39m\u001b[38;5;124mFeature \u001b[39m\u001b[38;5;132;01m{\u001b[39;00mj\u001b[38;5;132;01m}\u001b[39;00m\u001b[38;5;124m'\u001b[39m] \u001b[38;5;241m=\u001b[39m f \n",
      "File \u001b[1;32mc:\\Users\\Alailton\\Documents\\Github\\preprocessing\\metricas\\Features_Fourier.py:153\u001b[0m, in \u001b[0;36mdft_features\u001b[1;34m(data, fs, base_freq)\u001b[0m\n\u001b[0;32m    151\u001b[0m data_fft \u001b[38;5;241m=\u001b[39m np\u001b[38;5;241m.\u001b[39mfft\u001b[38;5;241m.\u001b[39mfft(slides, axis\u001b[38;5;241m=\u001b[39m\u001b[38;5;241m-\u001b[39m\u001b[38;5;241m1\u001b[39m)\n\u001b[0;32m    152\u001b[0m \u001b[38;5;66;03m# data_fft = np.apply_along_axis(tf.FFT, -1, slides)\u001b[39;00m\n\u001b[1;32m--> 153\u001b[0m data_fft_angle \u001b[38;5;241m=\u001b[39m \u001b[43mnp\u001b[49m\u001b[38;5;241;43m.\u001b[39;49m\u001b[43mangle\u001b[49m\u001b[43m(\u001b[49m\u001b[43mdata_fft\u001b[49m\u001b[43m[\u001b[49m\u001b[43m:\u001b[49m\u001b[43m,\u001b[49m\u001b[43m:\u001b[49m\u001b[43m,\u001b[49m\u001b[43m:\u001b[49m\u001b[43mN\u001b[49m\u001b[38;5;241;43m/\u001b[39;49m\u001b[38;5;241;43m/\u001b[39;49m\u001b[38;5;241;43m2\u001b[39;49m\u001b[43m]\u001b[49m\u001b[43m)\u001b[49m\n\u001b[0;32m    154\u001b[0m data_fft \u001b[38;5;241m=\u001b[39m np\u001b[38;5;241m.\u001b[39mabs(data_fft[:,:,:N\u001b[38;5;241m/\u001b[39m\u001b[38;5;241m/\u001b[39m\u001b[38;5;241m2\u001b[39m]) \u001b[38;5;241m/\u001b[39m (N\u001b[38;5;241m/\u001b[39m\u001b[38;5;241m/\u001b[39m\u001b[38;5;241m2\u001b[39m)\n\u001b[0;32m    156\u001b[0m \u001b[38;5;28;01mif\u001b[39;00m data\u001b[38;5;241m.\u001b[39mshape[\u001b[38;5;241m0\u001b[39m] \u001b[38;5;241m>\u001b[39m \u001b[38;5;241m3\u001b[39m:\n\u001b[0;32m    157\u001b[0m     \u001b[38;5;66;03m# The Paper uses Symetrical Components, it needs the value of the 3 phase current\u001b[39;00m\n\u001b[0;32m    158\u001b[0m     \u001b[38;5;66;03m# I'm supposing that the 3 phase current is the first 3 channels\u001b[39;00m\n",
      "File \u001b[1;32mc:\\Users\\Alailton\\AppData\\Local\\Programs\\Python\\Python311\\Lib\\site-packages\\numpy\\lib\\function_base.py:1653\u001b[0m, in \u001b[0;36mangle\u001b[1;34m(z, deg)\u001b[0m\n\u001b[0;32m   1650\u001b[0m     zimag \u001b[38;5;241m=\u001b[39m \u001b[38;5;241m0\u001b[39m\n\u001b[0;32m   1651\u001b[0m     zreal \u001b[38;5;241m=\u001b[39m z\n\u001b[1;32m-> 1653\u001b[0m a \u001b[38;5;241m=\u001b[39m \u001b[43marctan2\u001b[49m\u001b[43m(\u001b[49m\u001b[43mzimag\u001b[49m\u001b[43m,\u001b[49m\u001b[43m \u001b[49m\u001b[43mzreal\u001b[49m\u001b[43m)\u001b[49m\n\u001b[0;32m   1654\u001b[0m \u001b[38;5;28;01mif\u001b[39;00m deg:\n\u001b[0;32m   1655\u001b[0m     a \u001b[38;5;241m*\u001b[39m\u001b[38;5;241m=\u001b[39m \u001b[38;5;241m180\u001b[39m\u001b[38;5;241m/\u001b[39mpi\n",
      "\u001b[1;31mKeyboardInterrupt\u001b[0m: "
     ]
    }
   ],
   "source": [
    "from Features_Fourier import dft_features\n",
    "idx_left = data.shape[-1]//2 - 256\n",
    "idx_right = data.shape[-1]//2 + 512*2\n",
    "df_fourier = df_features.copy()\n",
    "fs = 512*60\n",
    "for i in tqdm(range(data.shape[0])):\n",
    "    feat = dft_features(\n",
    "        data[i,::-1,idx_left:idx_right], \n",
    "        fs)\n",
    "    for j, f in enumerate(feat):\n",
    "        df_fourier.loc[i, f'Feature {j}'] = f \n",
    "df_fourier.to_csv(\n",
    "    r'features/fourier_features.csv', \n",
    "    index=True)\n",
    "save_dataframe_image(df_fourier, r'features/fourier_features.png')"
   ]
  },
  {
   "cell_type": "markdown",
   "metadata": {},
   "source": [
    "### Wavelet Features"
   ]
  },
  {
   "cell_type": "code",
   "execution_count": 7,
   "metadata": {},
   "outputs": [
    {
     "data": {
      "application/vnd.jupyter.widget-view+json": {
       "model_id": "f09de81b85f14e14bc2ff506ef6add1a",
       "version_major": 2,
       "version_minor": 0
      },
      "text/plain": [
       "  0%|          | 0/4050 [00:00<?, ?it/s]"
      ]
     },
     "metadata": {},
     "output_type": "display_data"
    }
   ],
   "source": [
    "from MetricasWavelet import metricas_yordanos\n",
    "df_wavelet = df_features.copy()\n",
    "for i in tqdm(range(data.shape[0])):\n",
    "    feat = metricas_yordanos(data[i,3:6,:].T)\n",
    "    for j, f in enumerate(feat):\n",
    "        df_wavelet.loc[i, f'Feature {j}'] = f\n",
    "df_wavelet.to_csv(\n",
    "    r'features/wavelet_features.csv', \n",
    "    index=True\n",
    ")\n",
    "save_dataframe_image(df_wavelet, 'features/wavelet_features.png')"
   ]
  },
  {
   "cell_type": "markdown",
   "metadata": {},
   "source": [
    "### Stockwell Features"
   ]
  },
  {
   "cell_type": "code",
   "execution_count": 11,
   "metadata": {},
   "outputs": [
    {
     "data": {
      "application/vnd.jupyter.widget-view+json": {
       "model_id": "0f974d828f4b461fb0af07cae4563089",
       "version_major": 2,
       "version_minor": 0
      },
      "text/plain": [
       "  0%|          | 0/4050 [00:00<?, ?it/s]"
      ]
     },
     "metadata": {},
     "output_type": "display_data"
    },
    {
     "ename": "KeyboardInterrupt",
     "evalue": "",
     "output_type": "error",
     "traceback": [
      "\u001b[1;31m---------------------------------------------------------------------------\u001b[0m",
      "\u001b[1;31mKeyboardInterrupt\u001b[0m                         Traceback (most recent call last)",
      "Cell \u001b[1;32mIn[11], line 4\u001b[0m\n\u001b[0;32m      2\u001b[0m df_stockwell \u001b[38;5;241m=\u001b[39m df_features\u001b[38;5;241m.\u001b[39mcopy()\n\u001b[0;32m      3\u001b[0m \u001b[38;5;28;01mfor\u001b[39;00m i \u001b[38;5;129;01min\u001b[39;00m tqdm(\u001b[38;5;28mrange\u001b[39m(data\u001b[38;5;241m.\u001b[39mshape[\u001b[38;5;241m0\u001b[39m])):\n\u001b[1;32m----> 4\u001b[0m     feat \u001b[38;5;241m=\u001b[39m np\u001b[38;5;241m.\u001b[39mconcatenate(\u001b[43m[\u001b[49m\n\u001b[0;32m      5\u001b[0m \u001b[43m        \u001b[49m\u001b[43mextract_feature_TS\u001b[49m\u001b[43m(\u001b[49m\n\u001b[0;32m      6\u001b[0m \u001b[43m            \u001b[49m\u001b[43mdata\u001b[49m\u001b[43m[\u001b[49m\u001b[43mi\u001b[49m\u001b[43m,\u001b[49m\u001b[43mn\u001b[49m\u001b[43m,\u001b[49m\u001b[43m:\u001b[49m\u001b[43m]\u001b[49m\u001b[43m,\u001b[49m\u001b[43m \u001b[49m\n\u001b[0;32m      7\u001b[0m \u001b[43m            \u001b[49m\u001b[43mtempo_inicio\u001b[49m\u001b[43m \u001b[49m\u001b[38;5;241;43m=\u001b[39;49m\u001b[43m \u001b[49m\u001b[43mdata\u001b[49m\u001b[38;5;241;43m.\u001b[39;49m\u001b[43mshape\u001b[49m\u001b[43m[\u001b[49m\u001b[38;5;241;43m-\u001b[39;49m\u001b[38;5;241;43m1\u001b[39;49m\u001b[43m]\u001b[49m\u001b[38;5;241;43m/\u001b[39;49m\u001b[43mfs\u001b[49m\u001b[38;5;241;43m/\u001b[39;49m\u001b[38;5;241;43m2\u001b[39;49m\u001b[43m,\u001b[49m\u001b[43m \u001b[49m\n\u001b[0;32m      8\u001b[0m \u001b[43m            \u001b[49m\u001b[43msample_cycle\u001b[49m\u001b[38;5;241;43m=\u001b[39;49m\u001b[38;5;241;43m512\u001b[39;49m\u001b[43m)\u001b[49m\n\u001b[0;32m      9\u001b[0m \u001b[43m        \u001b[49m\u001b[38;5;28;43;01mfor\u001b[39;49;00m\u001b[43m \u001b[49m\u001b[43mn\u001b[49m\u001b[43m \u001b[49m\u001b[38;5;129;43;01min\u001b[39;49;00m\u001b[43m \u001b[49m\u001b[38;5;28;43mrange\u001b[39;49m\u001b[43m(\u001b[49m\u001b[38;5;241;43m3\u001b[39;49m\u001b[43m,\u001b[49m\u001b[38;5;241;43m6\u001b[39;49m\u001b[43m)\u001b[49m\n\u001b[0;32m     10\u001b[0m \u001b[43m    \u001b[49m\u001b[43m]\u001b[49m)\n\u001b[0;32m     11\u001b[0m     \u001b[38;5;28;01mfor\u001b[39;00m j, f \u001b[38;5;129;01min\u001b[39;00m \u001b[38;5;28menumerate\u001b[39m(feat):\n\u001b[0;32m     12\u001b[0m         df_stockwell\u001b[38;5;241m.\u001b[39mloc[i, \u001b[38;5;124mf\u001b[39m\u001b[38;5;124m'\u001b[39m\u001b[38;5;124mFeature \u001b[39m\u001b[38;5;132;01m{\u001b[39;00mj\u001b[38;5;132;01m}\u001b[39;00m\u001b[38;5;124m'\u001b[39m] \u001b[38;5;241m=\u001b[39m f\n",
      "Cell \u001b[1;32mIn[11], line 5\u001b[0m, in \u001b[0;36m<listcomp>\u001b[1;34m(.0)\u001b[0m\n\u001b[0;32m      2\u001b[0m df_stockwell \u001b[38;5;241m=\u001b[39m df_features\u001b[38;5;241m.\u001b[39mcopy()\n\u001b[0;32m      3\u001b[0m \u001b[38;5;28;01mfor\u001b[39;00m i \u001b[38;5;129;01min\u001b[39;00m tqdm(\u001b[38;5;28mrange\u001b[39m(data\u001b[38;5;241m.\u001b[39mshape[\u001b[38;5;241m0\u001b[39m])):\n\u001b[0;32m      4\u001b[0m     feat \u001b[38;5;241m=\u001b[39m np\u001b[38;5;241m.\u001b[39mconcatenate([\n\u001b[1;32m----> 5\u001b[0m         \u001b[43mextract_feature_TS\u001b[49m\u001b[43m(\u001b[49m\n\u001b[0;32m      6\u001b[0m \u001b[43m            \u001b[49m\u001b[43mdata\u001b[49m\u001b[43m[\u001b[49m\u001b[43mi\u001b[49m\u001b[43m,\u001b[49m\u001b[43mn\u001b[49m\u001b[43m,\u001b[49m\u001b[43m:\u001b[49m\u001b[43m]\u001b[49m\u001b[43m,\u001b[49m\u001b[43m \u001b[49m\n\u001b[0;32m      7\u001b[0m \u001b[43m            \u001b[49m\u001b[43mtempo_inicio\u001b[49m\u001b[43m \u001b[49m\u001b[38;5;241;43m=\u001b[39;49m\u001b[43m \u001b[49m\u001b[43mdata\u001b[49m\u001b[38;5;241;43m.\u001b[39;49m\u001b[43mshape\u001b[49m\u001b[43m[\u001b[49m\u001b[38;5;241;43m-\u001b[39;49m\u001b[38;5;241;43m1\u001b[39;49m\u001b[43m]\u001b[49m\u001b[38;5;241;43m/\u001b[39;49m\u001b[43mfs\u001b[49m\u001b[38;5;241;43m/\u001b[39;49m\u001b[38;5;241;43m2\u001b[39;49m\u001b[43m,\u001b[49m\u001b[43m \u001b[49m\n\u001b[0;32m      8\u001b[0m \u001b[43m            \u001b[49m\u001b[43msample_cycle\u001b[49m\u001b[38;5;241;43m=\u001b[39;49m\u001b[38;5;241;43m512\u001b[39;49m\u001b[43m)\u001b[49m\n\u001b[0;32m      9\u001b[0m         \u001b[38;5;28;01mfor\u001b[39;00m n \u001b[38;5;129;01min\u001b[39;00m \u001b[38;5;28mrange\u001b[39m(\u001b[38;5;241m3\u001b[39m,\u001b[38;5;241m6\u001b[39m)\n\u001b[0;32m     10\u001b[0m     ])\n\u001b[0;32m     11\u001b[0m     \u001b[38;5;28;01mfor\u001b[39;00m j, f \u001b[38;5;129;01min\u001b[39;00m \u001b[38;5;28menumerate\u001b[39m(feat):\n\u001b[0;32m     12\u001b[0m         df_stockwell\u001b[38;5;241m.\u001b[39mloc[i, \u001b[38;5;124mf\u001b[39m\u001b[38;5;124m'\u001b[39m\u001b[38;5;124mFeature \u001b[39m\u001b[38;5;132;01m{\u001b[39;00mj\u001b[38;5;132;01m}\u001b[39;00m\u001b[38;5;124m'\u001b[39m] \u001b[38;5;241m=\u001b[39m f\n",
      "File \u001b[1;32mc:\\Users\\Alailton\\Documents\\Github\\preprocessing\\metricas\\Features_Stockwell.py:29\u001b[0m, in \u001b[0;36mextract_feature_TS\u001b[1;34m(sinal, tempo_inicio, sample_cycle)\u001b[0m\n\u001b[0;32m     26\u001b[0m sinal_pos \u001b[38;5;241m=\u001b[39m sinal[inicio_falta:inicio_falta\u001b[38;5;241m+\u001b[39msample_cycle]\n\u001b[0;32m     28\u001b[0m ts_pre \u001b[38;5;241m=\u001b[39m TS\u001b[38;5;241m.\u001b[39mcalculate_ST_of_the_signal(sinal_pre, window_size, \u001b[38;5;241m1\u001b[39m)\n\u001b[1;32m---> 29\u001b[0m ts_pos \u001b[38;5;241m=\u001b[39m \u001b[43mTS\u001b[49m\u001b[38;5;241;43m.\u001b[39;49m\u001b[43mcalculate_ST_of_the_signal\u001b[49m\u001b[43m(\u001b[49m\u001b[43msinal_pos\u001b[49m\u001b[43m,\u001b[49m\u001b[43m \u001b[49m\u001b[43mwindow_size\u001b[49m\u001b[43m,\u001b[49m\u001b[43m \u001b[49m\u001b[38;5;241;43m1\u001b[39;49m\u001b[43m)\u001b[49m\n\u001b[0;32m     31\u001b[0m ts_pre \u001b[38;5;241m=\u001b[39m np\u001b[38;5;241m.\u001b[39marray(ts_pre)\n\u001b[0;32m     32\u001b[0m ts_pos \u001b[38;5;241m=\u001b[39m np\u001b[38;5;241m.\u001b[39marray(ts_pos)\n",
      "File \u001b[1;32mc:\\Users\\Alailton\\Documents\\Github\\preprocessing\\functions\\TS\\ST.py:62\u001b[0m, in \u001b[0;36mcalculate_ST_of_the_signal\u001b[1;34m(signal, window_size, k)\u001b[0m\n\u001b[0;32m     59\u001b[0m t1 \u001b[38;5;241m=\u001b[39m window_size\n\u001b[0;32m     61\u001b[0m \u001b[38;5;28;01mfor\u001b[39;00m j \u001b[38;5;129;01min\u001b[39;00m \u001b[38;5;28mrange\u001b[39m(\u001b[38;5;241m1\u001b[39m, \u001b[38;5;28mint\u001b[39m(\u001b[38;5;28mlen\u001b[39m(signal)\u001b[38;5;241m/\u001b[39mwindow_size)\u001b[38;5;241m+\u001b[39m\u001b[38;5;241m1\u001b[39m):\n\u001b[1;32m---> 62\u001b[0m     st \u001b[38;5;241m=\u001b[39m \u001b[43mwindow_ST\u001b[49m\u001b[43m(\u001b[49m\u001b[43msignal\u001b[49m\u001b[43m,\u001b[49m\u001b[43m \u001b[49m\u001b[43mt0\u001b[49m\u001b[43m,\u001b[49m\u001b[43m \u001b[49m\u001b[43mt1\u001b[49m\u001b[43m,\u001b[49m\u001b[43m \u001b[49m\u001b[43mk\u001b[49m\u001b[43m)\u001b[49m \u001b[38;5;66;03m# Calculate the ST at each window of the input signal\u001b[39;00m\n\u001b[0;32m     63\u001b[0m     \u001b[38;5;28;01mif\u001b[39;00m j \u001b[38;5;241m==\u001b[39m \u001b[38;5;241m1\u001b[39m:\n\u001b[0;32m     64\u001b[0m         amp \u001b[38;5;241m=\u001b[39m st[\u001b[38;5;241m1\u001b[39m]\n",
      "File \u001b[1;32mc:\\Users\\Alailton\\Documents\\Github\\preprocessing\\functions\\TS\\ST.py:144\u001b[0m, in \u001b[0;36mwindow_ST\u001b[1;34m(signal, t0, t1, k)\u001b[0m\n\u001b[0;32m    135\u001b[0m \u001b[38;5;250m\u001b[39m\u001b[38;5;124;03m'''\u001b[39;00m\n\u001b[0;32m    136\u001b[0m \u001b[38;5;124;03m:param signal: numpy input vector \u001b[39;00m\n\u001b[0;32m    137\u001b[0m \u001b[38;5;124;03m:param t0: Initial sample to mark the input of the evaluated window \u001b[39;00m\n\u001b[1;32m   (...)\u001b[0m\n\u001b[0;32m    140\u001b[0m \u001b[38;5;124;03m:return: st is the ST output matrix, A is the st amplitude and and is the ST angles at each sample of the window\u001b[39;00m\n\u001b[0;32m    141\u001b[0m \u001b[38;5;124;03m'''\u001b[39;00m\n\u001b[0;32m    143\u001b[0m x \u001b[38;5;241m=\u001b[39m signal[t0:t1] \u001b[38;5;66;03m# Windowing of the signals according to the first (t0) and last (1) samples of the window   \u001b[39;00m\n\u001b[1;32m--> 144\u001b[0m st \u001b[38;5;241m=\u001b[39m \u001b[43mstockwell_transform\u001b[49m\u001b[43m(\u001b[49m\u001b[43mx\u001b[49m\u001b[43m,\u001b[49m\u001b[43m \u001b[49m\u001b[43mk\u001b[49m\u001b[43m)\u001b[49m\n\u001b[0;32m    146\u001b[0m A \u001b[38;5;241m=\u001b[39m \u001b[38;5;241m2\u001b[39m\u001b[38;5;241m*\u001b[39m\u001b[38;5;28mabs\u001b[39m(st) \u001b[38;5;66;03m# Calculate the amplitude of ST output matrix \u001b[39;00m\n\u001b[0;32m    147\u001b[0m \u001b[38;5;66;03m# ang=angle(st) # Calculate the angle of ST output matrix \u001b[39;00m\n",
      "File \u001b[1;32mc:\\Users\\Alailton\\Documents\\Github\\preprocessing\\functions\\TS\\ST.py:109\u001b[0m, in \u001b[0;36mstockwell_transform\u001b[1;34m(signal, k)\u001b[0m\n\u001b[0;32m    106\u001b[0m HW \u001b[38;5;241m=\u001b[39m toeplitz(Hft, nhaf\u001b[38;5;241m+\u001b[39m\u001b[38;5;241m1\u001b[39m) \u001b[38;5;66;03m# Remodeling the frequency spectra for a NXN vector\u001b[39;00m\n\u001b[0;32m    107\u001b[0m HW \u001b[38;5;241m=\u001b[39m HW[\u001b[38;5;241m1\u001b[39m:nhaf \u001b[38;5;241m+\u001b[39m \u001b[38;5;241m1\u001b[39m, :]\n\u001b[1;32m--> 109\u001b[0m ST \u001b[38;5;241m=\u001b[39m \u001b[43mnp\u001b[49m\u001b[38;5;241;43m.\u001b[39;49m\u001b[43mfft\u001b[49m\u001b[38;5;241;43m.\u001b[39;49m\u001b[43mifft\u001b[49m\u001b[43m(\u001b[49m\u001b[43mHW\u001b[49m\u001b[43m \u001b[49m\u001b[38;5;241;43m*\u001b[39;49m\u001b[43m \u001b[49m\u001b[43mG\u001b[49m\u001b[43m,\u001b[49m\u001b[43m \u001b[49m\u001b[43maxis\u001b[49m\u001b[38;5;241;43m=\u001b[39;49m\u001b[38;5;241;43m1\u001b[39;49m\u001b[43m)\u001b[49m \u001b[38;5;66;03m# Applying the Gaussian Window\u001b[39;00m\n\u001b[0;32m    110\u001b[0m st0 \u001b[38;5;241m=\u001b[39m np\u001b[38;5;241m.\u001b[39mmean(signal) \u001b[38;5;241m*\u001b[39m np\u001b[38;5;241m.\u001b[39mones(N) \u001b[38;5;66;03m# Calculating the input signal DC component\u001b[39;00m\n\u001b[0;32m    111\u001b[0m ST \u001b[38;5;241m=\u001b[39m np\u001b[38;5;241m.\u001b[39mvstack([st0, ST])\n",
      "File \u001b[1;32mc:\\Users\\Alailton\\AppData\\Local\\Programs\\Python\\Python311\\Lib\\site-packages\\numpy\\fft\\_pocketfft.py:118\u001b[0m, in \u001b[0;36m_fft_dispatcher\u001b[1;34m(a, n, axis, norm)\u001b[0m\n\u001b[0;32m    113\u001b[0m     \u001b[38;5;28;01mexcept\u001b[39;00m \u001b[38;5;167;01mKeyError\u001b[39;00m:\n\u001b[0;32m    114\u001b[0m         \u001b[38;5;28;01mraise\u001b[39;00m \u001b[38;5;167;01mValueError\u001b[39;00m(\u001b[38;5;124mf\u001b[39m\u001b[38;5;124m'\u001b[39m\u001b[38;5;124mInvalid norm value \u001b[39m\u001b[38;5;132;01m{\u001b[39;00mnorm\u001b[38;5;132;01m}\u001b[39;00m\u001b[38;5;124m; should be \u001b[39m\u001b[38;5;124m\"\u001b[39m\u001b[38;5;124mbackward\u001b[39m\u001b[38;5;124m\"\u001b[39m\u001b[38;5;124m, \u001b[39m\u001b[38;5;124m'\u001b[39m\n\u001b[0;32m    115\u001b[0m                          \u001b[38;5;124m'\u001b[39m\u001b[38;5;124m\"\u001b[39m\u001b[38;5;124mortho\u001b[39m\u001b[38;5;124m\"\u001b[39m\u001b[38;5;124m or \u001b[39m\u001b[38;5;124m\"\u001b[39m\u001b[38;5;124mforward\u001b[39m\u001b[38;5;124m\"\u001b[39m\u001b[38;5;124m.\u001b[39m\u001b[38;5;124m'\u001b[39m) \u001b[38;5;28;01mfrom\u001b[39;00m \u001b[38;5;28;01mNone\u001b[39;00m\n\u001b[1;32m--> 118\u001b[0m \u001b[38;5;28;01mdef\u001b[39;00m \u001b[38;5;21m_fft_dispatcher\u001b[39m(a, n\u001b[38;5;241m=\u001b[39m\u001b[38;5;28;01mNone\u001b[39;00m, axis\u001b[38;5;241m=\u001b[39m\u001b[38;5;28;01mNone\u001b[39;00m, norm\u001b[38;5;241m=\u001b[39m\u001b[38;5;28;01mNone\u001b[39;00m):\n\u001b[0;32m    119\u001b[0m     \u001b[38;5;28;01mreturn\u001b[39;00m (a,)\n\u001b[0;32m    122\u001b[0m \u001b[38;5;129m@array_function_dispatch\u001b[39m(_fft_dispatcher)\n\u001b[0;32m    123\u001b[0m \u001b[38;5;28;01mdef\u001b[39;00m \u001b[38;5;21mfft\u001b[39m(a, n\u001b[38;5;241m=\u001b[39m\u001b[38;5;28;01mNone\u001b[39;00m, axis\u001b[38;5;241m=\u001b[39m\u001b[38;5;241m-\u001b[39m\u001b[38;5;241m1\u001b[39m, norm\u001b[38;5;241m=\u001b[39m\u001b[38;5;28;01mNone\u001b[39;00m):\n",
      "\u001b[1;31mKeyboardInterrupt\u001b[0m: "
     ]
    }
   ],
   "source": [
    "from Features_Stockwell import extract_feature_TS\n",
    "df_stockwell = df_features.copy()\n",
    "for i in tqdm(range(data.shape[0])):\n",
    "    feat = np.concatenate([\n",
    "        extract_feature_TS(\n",
    "            data[i,n,:], \n",
    "            tempo_inicio = data.shape[-1]/fs/2, \n",
    "            sample_cycle=512)\n",
    "        for n in range(3,6)\n",
    "    ])\n",
    "    for j, f in enumerate(feat):\n",
    "        df_stockwell.loc[i, f'Feature {j}'] = f\n",
    "df_stockwell.to_csv(\n",
    "    r'features/stockwell_features.csv', \n",
    "    index=True\n",
    ")\n",
    "save_dataframe_image(df_stockwell, 'features/stockwell_features.png')\n"
   ]
  },
  {
   "cell_type": "markdown",
   "metadata": {},
   "source": [
    "### Three-Phase Features"
   ]
  },
  {
   "cell_type": "code",
   "execution_count": 9,
   "metadata": {},
   "outputs": [
    {
     "data": {
      "application/vnd.jupyter.widget-view+json": {
       "model_id": "72be93ce81b144cbb1da956e8d033692",
       "version_major": 2,
       "version_minor": 0
      },
      "text/plain": [
       "  0%|          | 0/4050 [00:00<?, ?it/s]"
      ]
     },
     "metadata": {},
     "output_type": "display_data"
    }
   ],
   "source": [
    "from Features_TT import extract_feature_TT\n",
    "df_tt = df_features.copy()\n",
    "for i in tqdm(range(data.shape[0])):\n",
    "    feat = extract_feature_TT(\n",
    "        signal_voltage_A = data[i,0,:],\n",
    "        signal_voltage_B = data[i,1,:],\n",
    "        signal_voltage_C = data[i,2,:],\n",
    "        signal_corrent_A = data[i,3,:],\n",
    "        signal_corrent_B = data[i,4,:],\n",
    "        signal_corrent_C = data[i,5,:],\n",
    "        tempo_inicio = data.shape[-1]/fs/2,\n",
    "        sample_cycle = 512\n",
    "    )\n",
    "    for j, f in enumerate(feat):\n",
    "        df_tt.loc[i, f'Feature {j}'] = f\n",
    "df_tt.to_csv(r'features/tt_features.csv', index=True) \n",
    "save_dataframe_image(df_tt, 'features/tt_features.png')"
   ]
  },
  {
   "cell_type": "markdown",
   "metadata": {},
   "source": [
    "### EMD Features"
   ]
  },
  {
   "cell_type": "code",
   "execution_count": 10,
   "metadata": {},
   "outputs": [
    {
     "data": {
      "application/vnd.jupyter.widget-view+json": {
       "model_id": "bf1e0b06b5d8455eb11eb1f6a6749c4c",
       "version_major": 2,
       "version_minor": 0
      },
      "text/plain": [
       "  0%|          | 0/4050 [00:00<?, ?it/s]"
      ]
     },
     "metadata": {},
     "output_type": "display_data"
    }
   ],
   "source": [
    "# from Metricas_EMD import apply_vmd, svd\n",
    "from scipy.signal import hilbert\n",
    "from pyemd.EMD import EMD\n",
    "df_emd = df_features.copy()\n",
    "fault_pos = data.shape[-1]//2\n",
    "for i in tqdm(range(data.shape[0])):\n",
    "    feat = np.zeros((3,3))\n",
    "    for idx in range(3):\n",
    "        emd = EMD()\n",
    "        imfs = emd(data[i,idx,fault_pos-64:fault_pos+63], \n",
    "                   max_imf=10,)\n",
    "        feat[idx, :] = np.array([\n",
    "            np.sum(imfs[:,0]**2),\n",
    "            np.std(np.abs(imfs[:,0])),\n",
    "            np.std(np.angle(hilbert(imfs[:,0]))),\n",
    "        ])\n",
    "    feat = feat.reshape(-1)\n",
    "    for j, f in enumerate(feat):\n",
    "        df_emd.loc[i, f'Feature {j}'] = f\n",
    "df_emd.to_csv(r'features/EMD_features.csv', index=True) \n",
    "save_dataframe_image(df_emd, 'features/EMD_features.png')"
   ]
  },
  {
   "cell_type": "code",
   "execution_count": null,
   "metadata": {},
   "outputs": [],
   "source": []
  },
  {
   "cell_type": "markdown",
   "metadata": {},
   "source": [
    "### VMD Features"
   ]
  },
  {
   "cell_type": "code",
   "execution_count": 7,
   "metadata": {},
   "outputs": [
    {
     "data": {
      "application/vnd.jupyter.widget-view+json": {
       "model_id": "963a5f990aab41cabf18fbd7c320d830",
       "version_major": 2,
       "version_minor": 0
      },
      "text/plain": [
       "  0%|          | 0/4050 [00:00<?, ?it/s]"
      ]
     },
     "metadata": {},
     "output_type": "display_data"
    }
   ],
   "source": [
    "from Metricas_VMD import apply_vmd, svd\n",
    "df_vmd = df_features.copy()\n",
    "fault_pos = data.shape[-1]//2\n",
    "for i in tqdm(range(data.shape[0])):\n",
    "    np.concatenate([\n",
    "        svd(apply_vmd(data[i,0,fault_pos:fault_pos+512]))[1],\n",
    "        svd(apply_vmd(data[i,1,fault_pos:fault_pos+512]))[1],\n",
    "        svd(apply_vmd(data[i,2,fault_pos:fault_pos+512]))[1],\n",
    "    ])\n",
    "    for j, f in enumerate(feat):\n",
    "        df_vmd.loc[i, f'Feature {j}'] = f\n",
    "df_vmd.to_csv(r'features/VMD_features.csv', index=True) \n"
   ]
  },
  {
   "cell_type": "code",
   "execution_count": 9,
   "metadata": {},
   "outputs": [],
   "source": [
    "save_dataframe_image(df_vmd, 'features/VMD_features.png')"
   ]
  },
  {
   "cell_type": "code",
   "execution_count": null,
   "metadata": {},
   "outputs": [],
   "source": []
  },
  {
   "cell_type": "code",
   "execution_count": 3,
   "metadata": {},
   "outputs": [],
   "source": [
    "df_fourier = pd.read_csv(r'features/fourier_features.csv', index_col=0)\n",
    "df_wavelet = pd.read_csv(r'features/wavelet_features.csv', index_col=0)\n",
    "df_stockwell = pd.read_csv(r'features/stockwell_features.csv', index_col=0)\n",
    "df_tt = pd.read_csv(r'features/tt_features.csv', index_col=0)\n",
    "df_emd = pd.read_csv(r'features/EMD_features.csv', index_col=0)\n",
    "df_vmd = pd.read_csv(r'features/VMD_features.csv', index_col=0)"
   ]
  },
  {
   "cell_type": "code",
   "execution_count": null,
   "metadata": {},
   "outputs": [],
   "source": []
  },
  {
   "cell_type": "code",
   "execution_count": 14,
   "metadata": {},
   "outputs": [
    {
     "data": {
      "text/plain": [
       "array([1, 2, 3, 4, 5, 6, 7, 8, 9], dtype=int64)"
      ]
     },
     "execution_count": 14,
     "metadata": {},
     "output_type": "execute_result"
    }
   ],
   "source": []
  },
  {
   "cell_type": "code",
   "execution_count": null,
   "metadata": {},
   "outputs": [],
   "source": []
  },
  {
   "cell_type": "code",
   "execution_count": null,
   "metadata": {},
   "outputs": [],
   "source": []
  }
 ],
 "metadata": {
  "kernelspec": {
   "display_name": "Python 3",
   "language": "python",
   "name": "python3"
  },
  "language_info": {
   "codemirror_mode": {
    "name": "ipython",
    "version": 3
   },
   "file_extension": ".py",
   "mimetype": "text/x-python",
   "name": "python",
   "nbconvert_exporter": "python",
   "pygments_lexer": "ipython3",
   "version": "3.11.7"
  }
 },
 "nbformat": 4,
 "nbformat_minor": 2
}
