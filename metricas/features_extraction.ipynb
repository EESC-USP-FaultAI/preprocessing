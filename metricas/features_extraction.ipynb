{
 "cells": [
  {
   "cell_type": "code",
   "execution_count": 41,
   "metadata": {},
   "outputs": [],
   "source": [
    "import os, sys\n",
    "import pandas as pd\n",
    "import numpy as np\n",
    "from tqdm.notebook import tqdm\n",
    "import matplotlib.pyplot as plt"
   ]
  },
  {
   "cell_type": "markdown",
   "metadata": {},
   "source": [
    "### Loading Data"
   ]
  },
  {
   "cell_type": "code",
   "execution_count": 42,
   "metadata": {},
   "outputs": [],
   "source": [
    "# Load data configuration\n",
    "data_dir = r'C:\\Users\\alail\\OneDrive\\Documentos\\dado_iniciais'\n",
    "# data_dir = r'D:\\Pre-Processing Data'\n",
    "pen = [10, 50, 75]\n",
    "\n",
    "columns_name = [\n",
    "    'File ID',\n",
    "    'Fault type',\n",
    "    'Fault resistance', \n",
    "    'Incidence angle',\n",
    "    'Fault location',\n",
    "    'Fault distance',\n",
    "]\n",
    "df_cases = pd.read_csv(\n",
    "    os.path.join(data_dir, 'cenarios_falta_preprocessamento.csv'),\n",
    "    header=None,\n",
    "    index_col=False,\n",
    "    names=columns_name\n",
    ")\n"
   ]
  },
  {
   "cell_type": "code",
   "execution_count": 43,
   "metadata": {},
   "outputs": [
    {
     "name": "stdout",
     "output_type": "stream",
     "text": [
      "540\n"
     ]
    }
   ],
   "source": [
    "df_cases = df_cases[(df_cases['Fault type'] == 1)|(df_cases['Fault type'] == 4)|(df_cases['Fault type'] == 8)|(df_cases['Fault type'] == 11)]\n",
    "print(len(df_cases))"
   ]
  },
  {
   "cell_type": "code",
   "execution_count": 44,
   "metadata": {},
   "outputs": [
    {
     "name": "stdout",
     "output_type": "stream",
     "text": [
      "540\n"
     ]
    }
   ],
   "source": [
    "# Load data\n",
    "if os.path.exists(os.path.join(data_dir, 'data.npy')) and False:\n",
    "    data = np.load(os.path.join(data_dir, 'data.npy'))\n",
    "else:\n",
    "    one_data_size = (6, 3072)\n",
    "    print(len(df_cases))\n",
    "    data = np.zeros((len(pen) * len(df_cases), *one_data_size))\n",
    "    for i, p in enumerate(pen):\n",
    "        n = 0\n",
    "        for j, case in df_cases.iterrows():\n",
    "            data[i * len(df_cases) + n] = np.loadtxt(\n",
    "                os.path.join(data_dir, f'pen{p}', f'sinal_{j+1}_.csv'),\n",
    "                delimiter=','\n",
    "            ).T\n",
    "            n += 1\n",
    "    np.save(os.path.join(data_dir, 'data.npy'), data) # save in numpy for faster loading"
   ]
  },
  {
   "cell_type": "code",
   "execution_count": 45,
   "metadata": {},
   "outputs": [],
   "source": [
    "# Create a Dataframe to store the features\n",
    "columns_name = [\n",
    "    'File ID',\n",
    "    'Fault type',\n",
    "    'Fault resistance', \n",
    "    'Incidence angle',\n",
    "    'Fault location',\n",
    "    'Fault distance',\n",
    "    'Pen',\n",
    "]\n",
    "columns_type = {\n",
    "    'File ID': int,\n",
    "    'Fault type': int,\n",
    "    'Fault resistance': float,\n",
    "    'Incidence angle': float,\n",
    "    'Fault location': int,\n",
    "    'Fault distance': float,\n",
    "    'Pen': int\n",
    "}\n",
    "df_features = pd.DataFrame(\n",
    "    columns= columns_name,\n",
    "    index=range(len(pen) * len(df_cases))\n",
    "    \n",
    ")\n",
    "for i, p in enumerate(pen):\n",
    "    n = 0\n",
    "    for j, case in df_cases.iterrows():\n",
    "        df_features.loc[i * len(df_cases) + n] = case.tolist() + [p]\n",
    "        n += 1\n",
    "df_features = df_features.astype(columns_type)\n",
    "del df_cases"
   ]
  },
  {
   "cell_type": "code",
   "execution_count": 46,
   "metadata": {},
   "outputs": [],
   "source": [
    "df_features = df_features[(df_features['Fault type'] == 1)|(df_features['Fault type'] == 4)|(df_features['Fault type'] == 8)|(df_features['Fault type'] == 11)]"
   ]
  },
  {
   "cell_type": "code",
   "execution_count": null,
   "metadata": {},
   "outputs": [],
   "source": []
  },
  {
   "cell_type": "code",
   "execution_count": 47,
   "metadata": {},
   "outputs": [],
   "source": [
    "def save_dataframe_image(df, filename, n = 8):\n",
    "    import dataframe_image as dfi\n",
    "    first = df.head(n)\n",
    "    last = df.tail(n)\n",
    "    placeholder = pd.DataFrame({col: ['...'] for col in df.columns})\n",
    "    placeholder = placeholder.rename(index={0: '...'})\n",
    "    combined_df = pd.concat([first, placeholder, last], ignore_index=False)\n",
    "    combined_df.columns.rename('Index', inplace=True)\n",
    "    dfi.export(combined_df, filename, dpi=300, max_cols=10)\n",
    "save_dataframe_image(df_features, r'features_df.png', n=4)"
   ]
  },
  {
   "cell_type": "markdown",
   "metadata": {},
   "source": [
    "### Fourier Features"
   ]
  },
  {
   "cell_type": "code",
   "execution_count": 48,
   "metadata": {},
   "outputs": [
    {
     "data": {
      "application/vnd.jupyter.widget-view+json": {
       "model_id": "29e0fa04da474e55b2953b3cdc1c0ef3",
       "version_major": 2,
       "version_minor": 0
      },
      "text/plain": [
       "  0%|          | 0/1620 [00:00<?, ?it/s]"
      ]
     },
     "metadata": {},
     "output_type": "display_data"
    }
   ],
   "source": [
    "from Features_Fourier import dft_features\n",
    "idx_left = data.shape[-1]//2 - 256\n",
    "idx_right = data.shape[-1]//2 + 512*2\n",
    "df_fourier = df_features.copy()\n",
    "fs = 512*60\n",
    "for i in tqdm(range(data.shape[0])):\n",
    "    feat = dft_features(np.vstack([data[i,3,idx_left:idx_right], data[i,0,idx_left:idx_right]]), fs)\n",
    "    for j, f in enumerate(feat):\n",
    "        df_fourier.loc[i, f'Feature {j}'] = f \n",
    "df_fourier.to_csv(\n",
    "    r'features/fourier_features.csv', \n",
    "    index=True)\n",
    "save_dataframe_image(df_fourier, r'features/fourier_features.png')"
   ]
  },
  {
   "cell_type": "markdown",
   "metadata": {},
   "source": [
    "### Wavelet Features"
   ]
  },
  {
   "cell_type": "code",
   "execution_count": 49,
   "metadata": {},
   "outputs": [
    {
     "data": {
      "application/vnd.jupyter.widget-view+json": {
       "model_id": "bc70fc83dd48413a923ccfbbeb8fd02b",
       "version_major": 2,
       "version_minor": 0
      },
      "text/plain": [
       "  0%|          | 0/1620 [00:00<?, ?it/s]"
      ]
     },
     "metadata": {},
     "output_type": "display_data"
    }
   ],
   "source": [
    "from MetricasWavelet import metricas_yordanos\n",
    "df_wavelet = df_features.copy()\n",
    "for i in tqdm(range(data.shape[0])):\n",
    "    feat = metricas_yordanos(data[i,3,:].T)\n",
    "    for j, f in enumerate(feat):\n",
    "        df_wavelet.loc[i, f'Feature {j}'] = f\n",
    "df_wavelet.to_csv(\n",
    "    r'features/wavelet_features.csv', \n",
    "    index=True\n",
    ")\n",
    "save_dataframe_image(df_wavelet, 'features/wavelet_features.png')"
   ]
  },
  {
   "cell_type": "markdown",
   "metadata": {},
   "source": [
    "### Stockwell Features"
   ]
  },
  {
   "cell_type": "code",
   "execution_count": 50,
   "metadata": {},
   "outputs": [
    {
     "data": {
      "application/vnd.jupyter.widget-view+json": {
       "model_id": "16a6ad1867174bda9301b0b5026b4a60",
       "version_major": 2,
       "version_minor": 0
      },
      "text/plain": [
       "  0%|          | 0/1620 [00:00<?, ?it/s]"
      ]
     },
     "metadata": {},
     "output_type": "display_data"
    }
   ],
   "source": [
    "from Features_Stockwell import extract_feature_TS\n",
    "df_stockwell = df_features.copy()\n",
    "for i in tqdm(range(data.shape[0])):\n",
    "    feat = np.concatenate([\n",
    "        extract_feature_TS(data[i,3,:], tempo_inicio = data.shape[-1]/fs/2, sample_cycle=512)\n",
    "    ])\n",
    "    for j, f in enumerate(feat):\n",
    "        df_stockwell.loc[i, f'Feature {j}'] = f\n",
    "df_stockwell.to_csv(\n",
    "    r'features/stockwell_features.csv', \n",
    "    index=True\n",
    ")\n",
    "save_dataframe_image(df_stockwell, 'features/stockwell_features.png')\n"
   ]
  },
  {
   "cell_type": "markdown",
   "metadata": {},
   "source": [
    "### Three-Phase Features"
   ]
  },
  {
   "cell_type": "code",
   "execution_count": 51,
   "metadata": {},
   "outputs": [
    {
     "data": {
      "application/vnd.jupyter.widget-view+json": {
       "model_id": "3b290b38809d471dbfd3a4b8631bed8c",
       "version_major": 2,
       "version_minor": 0
      },
      "text/plain": [
       "  0%|          | 0/1620 [00:00<?, ?it/s]"
      ]
     },
     "metadata": {},
     "output_type": "display_data"
    }
   ],
   "source": [
    "from Features_TT import extract_feature_TT\n",
    "df_tt = df_features.copy()\n",
    "for i in tqdm(range(data.shape[0])):\n",
    "    feat = extract_feature_TT(\n",
    "        signal_voltage_A = data[i,0,:],\n",
    "        signal_voltage_B = data[i,1,:],\n",
    "        signal_voltage_C = data[i,2,:],\n",
    "        signal_corrent_A = data[i,3,:],\n",
    "        signal_corrent_B = data[i,4,:],\n",
    "        signal_corrent_C = data[i,5,:],\n",
    "        tempo_inicio = data.shape[-1]/fs/2,\n",
    "        sample_cycle = 512\n",
    "    )\n",
    "    for j, f in enumerate(feat):\n",
    "        df_tt.loc[i, f'Feature {j}'] = f\n",
    "df_tt.to_csv(r'features/tt_features.csv', index=True) \n",
    "save_dataframe_image(df_tt, 'features/tt_features.png')"
   ]
  },
  {
   "cell_type": "markdown",
   "metadata": {},
   "source": [
    "### EMD Features"
   ]
  },
  {
   "cell_type": "code",
   "execution_count": 52,
   "metadata": {},
   "outputs": [
    {
     "ename": "ModuleNotFoundError",
     "evalue": "No module named 'pyemd'",
     "output_type": "error",
     "traceback": [
      "\u001b[1;31m---------------------------------------------------------------------------\u001b[0m",
      "\u001b[1;31mModuleNotFoundError\u001b[0m                       Traceback (most recent call last)",
      "Cell \u001b[1;32mIn[52], line 3\u001b[0m\n\u001b[0;32m      1\u001b[0m \u001b[38;5;66;03m# from Metricas_EMD import apply_vmd, svd\u001b[39;00m\n\u001b[0;32m      2\u001b[0m \u001b[38;5;28;01mfrom\u001b[39;00m \u001b[38;5;21;01mscipy\u001b[39;00m\u001b[38;5;21;01m.\u001b[39;00m\u001b[38;5;21;01msignal\u001b[39;00m \u001b[38;5;28;01mimport\u001b[39;00m hilbert\n\u001b[1;32m----> 3\u001b[0m \u001b[38;5;28;01mfrom\u001b[39;00m \u001b[38;5;21;01mpyemd\u001b[39;00m\u001b[38;5;21;01m.\u001b[39;00m\u001b[38;5;21;01mEMD\u001b[39;00m \u001b[38;5;28;01mimport\u001b[39;00m EMD\n\u001b[0;32m      4\u001b[0m df_emd \u001b[38;5;241m=\u001b[39m df_features\u001b[38;5;241m.\u001b[39mcopy()\n\u001b[0;32m      5\u001b[0m fault_pos \u001b[38;5;241m=\u001b[39m data\u001b[38;5;241m.\u001b[39mshape[\u001b[38;5;241m-\u001b[39m\u001b[38;5;241m1\u001b[39m]\u001b[38;5;241m/\u001b[39m\u001b[38;5;241m/\u001b[39m\u001b[38;5;241m2\u001b[39m\n",
      "\u001b[1;31mModuleNotFoundError\u001b[0m: No module named 'pyemd'"
     ]
    }
   ],
   "source": [
    "# from Metricas_EMD import apply_vmd, svd\n",
    "from scipy.signal import hilbert\n",
    "from pyemd.EMD import EMD\n",
    "df_emd = df_features.copy()\n",
    "fault_pos = data.shape[-1]//2\n",
    "for i in tqdm(range(data.shape[0])):\n",
    "    feat = np.zeros((3,3))\n",
    "    for idx in range(1):\n",
    "        emd = EMD.EMD()\n",
    "        imfs = emd(data[i,idx,fault_pos-64:fault_pos+63], max_imf=10)\n",
    "        feat[idx, :] = np.array([\n",
    "            np.sum(imfs[:,0]**2),\n",
    "            np.std(np.abs(imfs[:,0])),\n",
    "            np.std(np.angle(hilbert(imfs[:,0]))),\n",
    "        ])\n",
    "    feat = feat.reshape(-1)\n",
    "    for j, f in enumerate(feat):\n",
    "        df_emd.loc[i, f'Feature {j}'] = f\n",
    "df_emd.to_csv(r'features/EMD_features.csv', index=True) \n",
    "save_dataframe_image(df_emd, 'features/EMD_features.png')"
   ]
  },
  {
   "cell_type": "code",
   "execution_count": null,
   "metadata": {},
   "outputs": [],
   "source": []
  },
  {
   "cell_type": "markdown",
   "metadata": {},
   "source": [
    "### VMD Features"
   ]
  },
  {
   "cell_type": "code",
   "execution_count": null,
   "metadata": {},
   "outputs": [
    {
     "data": {
      "application/vnd.jupyter.widget-view+json": {
       "model_id": "a9022a27c9a44bfe83601dfee138b2d9",
       "version_major": 2,
       "version_minor": 0
      },
      "text/plain": [
       "  0%|          | 0/4050 [00:00<?, ?it/s]"
      ]
     },
     "metadata": {},
     "output_type": "display_data"
    }
   ],
   "source": [
    "from Metricas_VMD import apply_vmd, svd\n",
    "df_vmd = df_features.copy()\n",
    "fault_pos = data.shape[-1]//2\n",
    "for i in tqdm(range(data.shape[0])):\n",
    "    svd(apply_vmd(data[i,0,fault_pos:fault_pos+22]), full_matrices=False)[1],\n",
    "    for j, f in enumerate(feat):\n",
    "        df_vmd.loc[i, f'Feature {j}'] = f\n",
    "df_vmd.to_csv(r'features/VMD_features.csv', index=True) \n"
   ]
  },
  {
   "cell_type": "code",
   "execution_count": null,
   "metadata": {},
   "outputs": [],
   "source": [
    "save_dataframe_image(df_vmd, 'features/VMD_features.png')"
   ]
  },
  {
   "cell_type": "code",
   "execution_count": null,
   "metadata": {},
   "outputs": [],
   "source": []
  },
  {
   "cell_type": "code",
   "execution_count": null,
   "metadata": {},
   "outputs": [],
   "source": [
    "df_fourier = pd.read_csv(r'features/fourier_features.csv', index_col=0)\n",
    "df_wavelet = pd.read_csv(r'features/wavelet_features.csv', index_col=0)\n",
    "df_stockwell = pd.read_csv(r'features/stockwell_features.csv', index_col=0)\n",
    "df_tt = pd.read_csv(r'features/tt_features.csv', index_col=0)\n",
    "df_emd = pd.read_csv(r'features/EMD_features.csv', index_col=0)\n",
    "df_vmd = pd.read_csv(r'features/VMD_features.csv', index_col=0)"
   ]
  },
  {
   "cell_type": "code",
   "execution_count": null,
   "metadata": {},
   "outputs": [],
   "source": []
  },
  {
   "cell_type": "code",
   "execution_count": null,
   "metadata": {},
   "outputs": [
    {
     "data": {
      "text/plain": [
       "array([1, 2, 3, 4, 5, 6, 7, 8, 9], dtype=int64)"
      ]
     },
     "execution_count": 14,
     "metadata": {},
     "output_type": "execute_result"
    }
   ],
   "source": []
  },
  {
   "cell_type": "code",
   "execution_count": null,
   "metadata": {},
   "outputs": [],
   "source": []
  },
  {
   "cell_type": "code",
   "execution_count": null,
   "metadata": {},
   "outputs": [],
   "source": []
  }
 ],
 "metadata": {
  "kernelspec": {
   "display_name": "Python 3",
   "language": "python",
   "name": "python3"
  },
  "language_info": {
   "codemirror_mode": {
    "name": "ipython",
    "version": 3
   },
   "file_extension": ".py",
   "mimetype": "text/x-python",
   "name": "python",
   "nbconvert_exporter": "python",
   "pygments_lexer": "ipython3",
   "version": "3.11.6"
  }
 },
 "nbformat": 4,
 "nbformat_minor": 2
}
