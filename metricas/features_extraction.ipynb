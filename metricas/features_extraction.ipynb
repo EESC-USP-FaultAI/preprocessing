{
 "cells": [
  {
   "cell_type": "code",
   "execution_count": 1,
   "metadata": {},
   "outputs": [],
   "source": [
    "import os, sys\n",
    "import pandas as pd\n",
    "import numpy as np\n",
    "from tqdm.notebook import tqdm\n",
    "import matplotlib.pyplot as plt"
   ]
  },
  {
   "cell_type": "markdown",
   "metadata": {},
   "source": [
    "### Loading Data"
   ]
  },
  {
   "cell_type": "code",
   "execution_count": 2,
   "metadata": {},
   "outputs": [],
   "source": [
    "# Load data configuration\n",
    "data_dir = r'C:\\Users\\alail\\OneDrive\\Documentos\\dado_iniciais'\n",
    "pen = [10, 50, 75]\n",
    "\n",
    "df_cases = pd.read_csv(\n",
    "    os.path.join(data_dir, 'cenarios_falta_preprocessamento.csv'),\n",
    "    header=None,\n",
    "    index_col=False\n",
    ")"
   ]
  },
  {
   "cell_type": "code",
   "execution_count": 3,
   "metadata": {},
   "outputs": [],
   "source": [
    "# Load data\n",
    "if os.path.exists(os.path.join(data_dir, 'data.npy')):\n",
    "    data = np.load(os.path.join(data_dir, 'data.npy'))\n",
    "else:\n",
    "    one_data_size = (6, 3072)\n",
    "    data = np.zeros((len(pen) * len(df_cases), *one_data_size))\n",
    "    for i, p in enumerate(pen):\n",
    "        for j, case in df_cases.iterrows():\n",
    "            data[i * len(df_cases) + j] = np.loadtxt(\n",
    "                os.path.join(data_dir, f'pen{p}', f'sinal_{j+1}_.csv'),\n",
    "                delimiter=','\n",
    "            ).T\n",
    "    np.save(os.path.join(data_dir, 'data.npy'), data) # save in numpy for faster loading"
   ]
  },
  {
   "cell_type": "code",
   "execution_count": 4,
   "metadata": {},
   "outputs": [],
   "source": [
    "# Create a Dataframe to store the features\n",
    "columns_name = [\n",
    "    'File ID',\n",
    "    'Fault type',\n",
    "    'Fault resistance', \n",
    "    'Incidence angle',\n",
    "    'Fault location',\n",
    "    'Fault distance',\n",
    "    'Pen',\n",
    "]\n",
    "columns_type = {\n",
    "    'File ID': int,\n",
    "    'Fault type': int,\n",
    "    'Fault resistance': float,\n",
    "    'Incidence angle': float,\n",
    "    'Fault location': int,\n",
    "    'Fault distance': float,\n",
    "    'Pen': int\n",
    "}\n",
    "df_features = pd.DataFrame(\n",
    "    columns= columns_name,\n",
    "    index=range(len(pen) * len(df_cases))\n",
    ")\n",
    "for i, p in enumerate(pen):\n",
    "    for j, case in df_cases.iterrows():\n",
    "        df_features.loc[i * len(df_cases) + j] = case.tolist() + [p]\n",
    "df_features = df_features.astype(columns_type)\n",
    "del df_cases"
   ]
  },
  {
   "cell_type": "markdown",
   "metadata": {},
   "source": [
    "### Fourier Features"
   ]
  },
  {
   "cell_type": "code",
   "execution_count": 11,
   "metadata": {},
   "outputs": [
    {
     "data": {
      "application/vnd.jupyter.widget-view+json": {
       "model_id": "e1593b25e04b4aacbb2bb88f3fd5d00f",
       "version_major": 2,
       "version_minor": 0
      },
      "text/plain": [
       "  0%|          | 0/4050 [00:00<?, ?it/s]"
      ]
     },
     "metadata": {},
     "output_type": "display_data"
    }
   ],
   "source": [
    "from Features_Fourier import dft_features\n",
    "idx_left = data.shape[-1]//2 - 256\n",
    "idx_right = data.shape[-1]//2 + 512*2\n",
    "df_fourier = df_features.copy()\n",
    "fs = 512*60\n",
    "for i in tqdm(range(data.shape[0])):\n",
    "    feat = dft_features(np.vstack([data[i,3,idx_left:idx_right], data[i,0,idx_left:idx_right]]), fs)\n",
    "    for j, f in enumerate(feat):\n",
    "        df_fourier.loc[i, f'Feature {j}'] = f \n",
    "df_fourier.to_csv(r'features/fourier_features.csv', index=True)"
   ]
  },
  {
   "cell_type": "markdown",
   "metadata": {},
   "source": [
    "### Wavelet Features"
   ]
  },
  {
   "cell_type": "code",
   "execution_count": 6,
   "metadata": {},
   "outputs": [
    {
     "data": {
      "application/vnd.jupyter.widget-view+json": {
       "model_id": "208cd481c29742a29f971350c4eb5f1b",
       "version_major": 2,
       "version_minor": 0
      },
      "text/plain": [
       "  0%|          | 0/4050 [00:00<?, ?it/s]"
      ]
     },
     "metadata": {},
     "output_type": "display_data"
    }
   ],
   "source": [
    "from MetricasWavelet import metricas_yordanos\n",
    "df_wavelet = df_features.copy()\n",
    "for i in tqdm(range(data.shape[0])):\n",
    "    feat = metricas_yordanos(data[i,3,:].T)\n",
    "    for j, f in enumerate(feat):\n",
    "        df_wavelet.loc[i, f'Feature {j}'] = f\n",
    "df_wavelet.to_csv(r'features/wavelet_features.csv', index=True)"
   ]
  },
  {
   "cell_type": "markdown",
   "metadata": {},
   "source": [
    "### Stockwell Features"
   ]
  },
  {
   "cell_type": "code",
   "execution_count": 7,
   "metadata": {},
   "outputs": [
    {
     "data": {
      "application/vnd.jupyter.widget-view+json": {
       "model_id": "ba4b9517690945298409159062e3615d",
       "version_major": 2,
       "version_minor": 0
      },
      "text/plain": [
       "  0%|          | 0/4050 [00:00<?, ?it/s]"
      ]
     },
     "metadata": {},
     "output_type": "display_data"
    }
   ],
   "source": [
    "from Features_Stockwell import extract_feature_TS\n",
    "df_stockwell = df_features.copy()\n",
    "for i in tqdm(range(data.shape[0])):\n",
    "    feat = np.concatenate([\n",
    "        extract_feature_TS(data[i,3,:], tempo_inicio = data.shape[-1]/fs/2, sample_cycle=512)\n",
    "    ])\n",
    "    for j, f in enumerate(feat):\n",
    "        df_stockwell.loc[i, f'Feature {j}'] = f\n",
    "df_stockwell.to_csv(r'features/stockwell_features.csv', index=True)"
   ]
  },
  {
   "cell_type": "markdown",
   "metadata": {},
   "source": [
    "### Three-Phase Features"
   ]
  },
  {
   "cell_type": "code",
   "execution_count": 8,
   "metadata": {},
   "outputs": [
    {
     "data": {
      "application/vnd.jupyter.widget-view+json": {
       "model_id": "394b4fc895874aa1b207c1816a5945f0",
       "version_major": 2,
       "version_minor": 0
      },
      "text/plain": [
       "  0%|          | 0/4050 [00:00<?, ?it/s]"
      ]
     },
     "metadata": {},
     "output_type": "display_data"
    }
   ],
   "source": [
    "from Features_TT import extract_feature_TT\n",
    "df_tt = df_features.copy()\n",
    "for i in tqdm(range(data.shape[0])):\n",
    "    feat = extract_feature_TT(\n",
    "        signal_voltage_A = data[i,0,:],\n",
    "        signal_voltage_B = data[i,1,:],\n",
    "        signal_voltage_C = data[i,2,:],\n",
    "        signal_corrent_A = data[i,3,:],\n",
    "        signal_corrent_B = data[i,4,:],\n",
    "        signal_corrent_C = data[i,5,:],\n",
    "        tempo_inicio = data.shape[-1]/fs/2,\n",
    "        sample_cycle = 512\n",
    "    )\n",
    "    for j, f in enumerate(feat):\n",
    "        df_tt.loc[i, f'Feature {j}'] = f\n",
    "df_tt.to_csv(r'features/tt_features.csv', index=True) "
   ]
  },
  {
   "cell_type": "markdown",
   "metadata": {},
   "source": [
    "### EMD Features"
   ]
  },
  {
   "cell_type": "code",
   "execution_count": 9,
   "metadata": {},
   "outputs": [
    {
     "data": {
      "application/vnd.jupyter.widget-view+json": {
       "model_id": "e9cf5cc9501642b7950d7226a13b4a89",
       "version_major": 2,
       "version_minor": 0
      },
      "text/plain": [
       "  0%|          | 0/4050 [00:00<?, ?it/s]"
      ]
     },
     "metadata": {},
     "output_type": "display_data"
    }
   ],
   "source": [
    "# from Metricas_EMD import apply_vmd, svd\n",
    "from scipy.signal import hilbert\n",
    "from PyEMD import EMD\n",
    "df_emd = df_features.copy()\n",
    "fault_pos = data.shape[-1]//2\n",
    "for i in tqdm(range(data.shape[0])):\n",
    "    feat = np.zeros((3,3))\n",
    "    for idx in range(1):\n",
    "        emd = EMD.EMD()\n",
    "        imfs = emd(data[i,idx,fault_pos-64:fault_pos+63], max_imf=10)\n",
    "        feat[idx, :] = np.array([\n",
    "            np.sum(imfs[:,0]**2),\n",
    "            np.std(np.abs(imfs[:,0])),\n",
    "            np.std(np.angle(hilbert(imfs[:,0]))),\n",
    "        ])\n",
    "    feat = feat.reshape(-1)\n",
    "    for j, f in enumerate(feat):\n",
    "        df_emd.loc[i, f'Feature {j}'] = f\n",
    "df_emd.to_csv(r'features/EMD_features.csv', index=True) "
   ]
  },
  {
   "cell_type": "markdown",
   "metadata": {},
   "source": [
    "### VMD Features"
   ]
  },
  {
   "cell_type": "code",
   "execution_count": 10,
   "metadata": {},
   "outputs": [
    {
     "data": {
      "application/vnd.jupyter.widget-view+json": {
       "model_id": "a9022a27c9a44bfe83601dfee138b2d9",
       "version_major": 2,
       "version_minor": 0
      },
      "text/plain": [
       "  0%|          | 0/4050 [00:00<?, ?it/s]"
      ]
     },
     "metadata": {},
     "output_type": "display_data"
    }
   ],
   "source": [
    "from Metricas_VMD import apply_vmd, svd\n",
    "df_vmd = df_features.copy()\n",
    "fault_pos = data.shape[-1]//2\n",
    "for i in tqdm(range(data.shape[0])):\n",
    "    svd(apply_vmd(data[i,0,fault_pos:fault_pos+22]), full_matrices=False)[1],\n",
    "    for j, f in enumerate(feat):\n",
    "        df_vmd.loc[i, f'Feature {j}'] = f\n",
    "df_vmd.to_csv(r'features/VMD_features.csv', index=True) "
   ]
  },
  {
   "cell_type": "code",
   "execution_count": null,
   "metadata": {},
   "outputs": [],
   "source": []
  }
 ],
 "metadata": {
  "kernelspec": {
   "display_name": "Python 3",
   "language": "python",
   "name": "python3"
  },
  "language_info": {
   "codemirror_mode": {
    "name": "ipython",
    "version": 3
   },
   "file_extension": ".py",
   "mimetype": "text/x-python",
   "name": "python",
   "nbconvert_exporter": "python",
   "pygments_lexer": "ipython3",
   "version": "3.11.6"
  }
 },
 "nbformat": 4,
 "nbformat_minor": 2
}
