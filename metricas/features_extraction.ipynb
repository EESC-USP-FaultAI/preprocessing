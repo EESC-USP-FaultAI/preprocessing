{
 "cells": [
  {
   "cell_type": "code",
   "execution_count": 1,
   "metadata": {},
   "outputs": [],
   "source": [
    "import os, sys\n",
    "import pandas as pd\n",
    "import numpy as np\n",
    "from tqdm.notebook import tqdm\n",
    "from Features_Fourier import dft_features"
   ]
  },
  {
   "cell_type": "markdown",
   "metadata": {},
   "source": [
    "### Loading Data"
   ]
  },
  {
   "cell_type": "code",
   "execution_count": 2,
   "metadata": {},
   "outputs": [],
   "source": [
    "# Load data configuration\n",
    "data_dir = r'C:\\Users\\alail\\OneDrive\\Documentos\\dado_iniciais'\n",
    "pen = [10, 50, 75]\n",
    "\n",
    "df_cases = pd.read_csv(\n",
    "    os.path.join(data_dir, 'cenarios_falta_preprocessamento.csv'),\n",
    "    header=None,\n",
    "    index_col=False\n",
    ")"
   ]
  },
  {
   "cell_type": "code",
   "execution_count": 3,
   "metadata": {},
   "outputs": [],
   "source": [
    "# Load data\n",
    "if os.path.exists(os.path.join(data_dir, 'data.npy')):\n",
    "    data = np.load(os.path.join(data_dir, 'data.npy'))\n",
    "else:\n",
    "    one_data_size = (6, 3072)\n",
    "    data = np.zeros((len(pen) * len(df_cases), *one_data_size))\n",
    "    for i, p in enumerate(pen):\n",
    "        for j, case in df_cases.iterrows():\n",
    "            data[i * len(df_cases) + j] = np.loadtxt(\n",
    "                os.path.join(data_dir, f'pen{p}', f'sinal_{j+1}_.csv'),\n",
    "                delimiter=','\n",
    "            ).T\n",
    "    np.save(os.path.join(data_dir, 'data.npy'), data) # save in numpy for faster loading"
   ]
  },
  {
   "cell_type": "code",
   "execution_count": 8,
   "metadata": {},
   "outputs": [],
   "source": [
    "# Create a Dataframe to store the features\n",
    "\n",
    "columns_name = [\n",
    "    'File ID',\n",
    "    'Fault type',\n",
    "    'Fault resistance', \n",
    "    'Incidence angle',\n",
    "    'Fault location',\n",
    "    'Fault distance',\n",
    "    'Pen',\n",
    "    'Fourier Feature',\n",
    "    'Wavelet Feature',\n",
    "    'Stockwell Feature',\n",
    "    'Hilbert-Huang Feature'\n",
    "]\n",
    "\n",
    "columns_type = {\n",
    "    'File ID': int,\n",
    "    'Fault type': int,\n",
    "    'Fault resistance': float,\n",
    "    'Incidence angle': float,\n",
    "    'Fault location': int,\n",
    "    'Fault distance': float,\n",
    "    'Pen': int,\n",
    "    'Fourier Feature': object,\n",
    "    'Wavelet Feature': object,\n",
    "    'Stockwell Feature': object,\n",
    "    'Hilbert-Huang Feature': object\n",
    "}\n",
    "\n",
    "df_features = pd.DataFrame(\n",
    "    columns= columns_name,\n",
    "    index=range(len(pen) * len(df_cases))\n",
    ")\n",
    "\n",
    "for i, p in enumerate(pen):\n",
    "    for j, case in df_cases.iterrows():\n",
    "        df_features.loc[i * len(df_cases) + j] = case.tolist() + [p, [], [], [], []]\n",
    "df_features = df_features.astype(columns_type)\n",
    "del df_cases"
   ]
  },
  {
   "cell_type": "markdown",
   "metadata": {},
   "source": [
    "### Fourier Features"
   ]
  },
  {
   "cell_type": "code",
   "execution_count": null,
   "metadata": {},
   "outputs": [
    {
     "data": {
      "application/vnd.jupyter.widget-view+json": {
       "model_id": "2f7c55d4c9ad4c3da5104d52209f2bba",
       "version_major": 2,
       "version_minor": 0
      },
      "text/plain": [
       "  0%|          | 0/4050 [00:00<?, ?it/s]"
      ]
     },
     "metadata": {},
     "output_type": "display_data"
    }
   ],
   "source": [
    "fs = 512*60\n",
    "for i in tqdm(range(data.shape[0])):\n",
    "    df_features.loc[i, 'Fourier Feature'] = dft_features(data[i], fs)\n",
    "    break"
   ]
  },
  {
   "cell_type": "markdown",
   "metadata": {},
   "source": [
    "### Wavelet Features"
   ]
  },
  {
   "cell_type": "code",
   "execution_count": null,
   "metadata": {},
   "outputs": [],
   "source": [
    "x = df_features.loc[0, 'Fourier Feature']\n",
    "\n"
   ]
  },
  {
   "cell_type": "markdown",
   "metadata": {},
   "source": [
    "### Save Dataframe"
   ]
  },
  {
   "cell_type": "code",
   "execution_count": null,
   "metadata": {},
   "outputs": [],
   "source": [
    "df_features.to_pickle(os.path.join(data_dir, 'features.pkl'))"
   ]
  },
  {
   "cell_type": "code",
   "execution_count": null,
   "metadata": {},
   "outputs": [],
   "source": []
  }
 ],
 "metadata": {
  "kernelspec": {
   "display_name": "Python 3",
   "language": "python",
   "name": "python3"
  },
  "language_info": {
   "codemirror_mode": {
    "name": "ipython",
    "version": 3
   },
   "file_extension": ".py",
   "mimetype": "text/x-python",
   "name": "python",
   "nbconvert_exporter": "python",
   "pygments_lexer": "ipython3",
   "version": "3.11.6"
  }
 },
 "nbformat": 4,
 "nbformat_minor": 2
}
